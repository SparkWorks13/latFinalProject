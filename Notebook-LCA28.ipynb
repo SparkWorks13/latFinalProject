{
 "cells": [
  {
   "cell_type": "markdown",
   "metadata": {},
   "source": [
    "# Pogo Park Dataset"
   ]
  },
  {
   "cell_type": "code",
   "execution_count": 2,
   "metadata": {},
   "outputs": [],
   "source": [
    "import pandas as pd\n",
    "import fpsnippets as fp"
   ]
  },
  {
   "cell_type": "code",
   "execution_count": 3,
   "metadata": {},
   "outputs": [],
   "source": [
    "pogo = pd.read_csv(\"datasets/POGOHPARK.csv\")"
   ]
  },
  {
   "cell_type": "code",
   "execution_count": 4,
   "metadata": {},
   "outputs": [
    {
     "data": {
      "text/html": [
       "<div>\n",
       "<style scoped>\n",
       "    .dataframe tbody tr th:only-of-type {\n",
       "        vertical-align: middle;\n",
       "    }\n",
       "\n",
       "    .dataframe tbody tr th {\n",
       "        vertical-align: top;\n",
       "    }\n",
       "\n",
       "    .dataframe thead th {\n",
       "        text-align: right;\n",
       "    }\n",
       "</style>\n",
       "<table border=\"1\" class=\"dataframe\">\n",
       "  <thead>\n",
       "    <tr style=\"text-align: right;\">\n",
       "      <th></th>\n",
       "      <th>_id</th>\n",
       "      <th>Id</th>\n",
       "      <th>Name</th>\n",
       "      <th>Total Docks</th>\n",
       "      <th>Latitude</th>\n",
       "      <th>Longitude</th>\n",
       "    </tr>\n",
       "  </thead>\n",
       "  <tbody>\n",
       "    <tr>\n",
       "      <th>0</th>\n",
       "      <td>1</td>\n",
       "      <td>1</td>\n",
       "      <td>Pierce St &amp; Summerlea St</td>\n",
       "      <td>19</td>\n",
       "      <td>40.456507</td>\n",
       "      <td>-79.932331</td>\n",
       "    </tr>\n",
       "    <tr>\n",
       "      <th>1</th>\n",
       "      <td>2</td>\n",
       "      <td>2</td>\n",
       "      <td>Eliza Furnace Trail &amp; Swineburne St</td>\n",
       "      <td>15</td>\n",
       "      <td>40.425800</td>\n",
       "      <td>-79.953400</td>\n",
       "    </tr>\n",
       "    <tr>\n",
       "      <th>2</th>\n",
       "      <td>3</td>\n",
       "      <td>3</td>\n",
       "      <td>Centre Ave &amp; Addison St</td>\n",
       "      <td>15</td>\n",
       "      <td>40.444600</td>\n",
       "      <td>-79.978300</td>\n",
       "    </tr>\n",
       "    <tr>\n",
       "      <th>3</th>\n",
       "      <td>4</td>\n",
       "      <td>4</td>\n",
       "      <td>Burns White Center at 3 Crossings</td>\n",
       "      <td>15</td>\n",
       "      <td>40.456400</td>\n",
       "      <td>-79.980000</td>\n",
       "    </tr>\n",
       "    <tr>\n",
       "      <th>4</th>\n",
       "      <td>5</td>\n",
       "      <td>5</td>\n",
       "      <td>Allegheny Station</td>\n",
       "      <td>19</td>\n",
       "      <td>40.448301</td>\n",
       "      <td>-80.018007</td>\n",
       "    </tr>\n",
       "    <tr>\n",
       "      <th>5</th>\n",
       "      <td>6</td>\n",
       "      <td>6</td>\n",
       "      <td>10th St &amp; Penn Ave</td>\n",
       "      <td>15</td>\n",
       "      <td>40.444653</td>\n",
       "      <td>-79.996074</td>\n",
       "    </tr>\n",
       "    <tr>\n",
       "      <th>6</th>\n",
       "      <td>7</td>\n",
       "      <td>7</td>\n",
       "      <td>Liberty Ave &amp; Gross St</td>\n",
       "      <td>15</td>\n",
       "      <td>40.459588</td>\n",
       "      <td>-79.945204</td>\n",
       "    </tr>\n",
       "    <tr>\n",
       "      <th>7</th>\n",
       "      <td>8</td>\n",
       "      <td>8</td>\n",
       "      <td>Glasshouse</td>\n",
       "      <td>15</td>\n",
       "      <td>40.432900</td>\n",
       "      <td>-80.003000</td>\n",
       "    </tr>\n",
       "    <tr>\n",
       "      <th>8</th>\n",
       "      <td>9</td>\n",
       "      <td>9</td>\n",
       "      <td>South Side Trail &amp; S 4th St</td>\n",
       "      <td>15</td>\n",
       "      <td>40.431336</td>\n",
       "      <td>-79.995106</td>\n",
       "    </tr>\n",
       "    <tr>\n",
       "      <th>9</th>\n",
       "      <td>10</td>\n",
       "      <td>10</td>\n",
       "      <td>Zulema St &amp; Coltart Ave</td>\n",
       "      <td>19</td>\n",
       "      <td>40.436055</td>\n",
       "      <td>-79.956827</td>\n",
       "    </tr>\n",
       "  </tbody>\n",
       "</table>\n",
       "</div>"
      ],
      "text/plain": [
       "   _id  Id                                 Name  Total Docks   Latitude  \\\n",
       "0    1   1             Pierce St & Summerlea St           19  40.456507   \n",
       "1    2   2  Eliza Furnace Trail & Swineburne St           15  40.425800   \n",
       "2    3   3              Centre Ave & Addison St           15  40.444600   \n",
       "3    4   4    Burns White Center at 3 Crossings           15  40.456400   \n",
       "4    5   5                    Allegheny Station           19  40.448301   \n",
       "5    6   6                   10th St & Penn Ave           15  40.444653   \n",
       "6    7   7               Liberty Ave & Gross St           15  40.459588   \n",
       "7    8   8                           Glasshouse           15  40.432900   \n",
       "8    9   9          South Side Trail & S 4th St           15  40.431336   \n",
       "9   10  10              Zulema St & Coltart Ave           19  40.436055   \n",
       "\n",
       "   Longitude  \n",
       "0 -79.932331  \n",
       "1 -79.953400  \n",
       "2 -79.978300  \n",
       "3 -79.980000  \n",
       "4 -80.018007  \n",
       "5 -79.996074  \n",
       "6 -79.945204  \n",
       "7 -80.003000  \n",
       "8 -79.995106  \n",
       "9 -79.956827  "
      ]
     },
     "execution_count": 4,
     "metadata": {},
     "output_type": "execute_result"
    }
   ],
   "source": [
    "pogo.head(10)"
   ]
  },
  {
   "cell_type": "code",
   "execution_count": 5,
   "metadata": {},
   "outputs": [],
   "source": [
    "ll = pogo.iloc[:, 4:]\n",
    "neighborhoodsPG = {}\n",
    "for x in range(ll.iloc[:, 0].count()):\n",
    "    loc = fp.geo_to_neighborhood(ll.iloc[x, 0], ll.iloc[x, 1])\n",
    "    if loc in neighborhoodsPG:\n",
    "        neighborhoodsPG[loc] += 1\n",
    "    elif loc != None:\n",
    "        neighborhoodsPG[loc] = 1"
   ]
  },
  {
   "cell_type": "code",
   "execution_count": 7,
   "metadata": {},
   "outputs": [],
   "source": [
    "n = pd.DataFrame(neighborhoodsPG.items())"
   ]
  },
  {
   "cell_type": "code",
   "execution_count": 8,
   "metadata": {},
   "outputs": [
    {
     "data": {
      "text/plain": [
       "<matplotlib.axes._subplots.AxesSubplot at 0x7f2274294e80>"
      ]
     },
     "execution_count": 8,
     "metadata": {},
     "output_type": "execute_result"
    },
    {
     "data": {
      "image/png": "[encoded data removed]",
      "text/plain": [
       "<Figure size 432x288 with 1 Axes>"
      ]
     },
     "metadata": {
      "needs_background": "light"
     },
     "output_type": "display_data"
    }
   ],
   "source": [
    "n.plot.bar(x=0)"
   ]
  },
  {
   "cell_type": "code",
   "execution_count": null,
   "metadata": {},
   "outputs": [],
   "source": []
  }
 ],
 "metadata": {
  "kernelspec": {
   "display_name": "Python 3",
   "language": "python",
   "name": "python3"
  },
  "language_info": {
   "codemirror_mode": {
    "name": "ipython",
    "version": 3
   },
   "file_extension": ".py",
   "mimetype": "text/x-python",
   "name": "python",
   "nbconvert_exporter": "python",
   "pygments_lexer": "ipython3",
   "version": "3.8.3"
  }
 },
 "nbformat": 4,
 "nbformat_minor": 4
}
