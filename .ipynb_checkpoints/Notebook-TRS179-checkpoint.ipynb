{
 "cells": [
  {
   "cell_type": "markdown",
   "metadata": {},
   "source": [
    "Steel City Splashers ft. ChatGPT\n",
    "FUN INDEX\n",
    "\n",
    "Ballfields PGH:\n",
    "See best neighborhood to live for best access to ballfields\n",
    "Metric: best neighborhood has most ballfields\n",
    "https://data.wprdc.org/dataset/ballfields-pgh\n",
    "\n",
    "POGOH Station Location:\n",
    "Find the area where the most POGOH Stations are located\n",
    "Metric: best area for those that like to bike\n",
    "https://data.wprdc.org/dataset/station-locations\n",
    "\n",
    "City of Pittsburgh Pools:\n",
    "Find the area with the largest quantity of public pools\n",
    "Metric: best area with public pools\n",
    "https://data.wprdc.org/dataset/city-pools\n",
    "\n",
    "Pittsburgh Fish Fry Locations:\n",
    "Locations that serve fish fry during the season\n",
    "Metric: best fish fry\n",
    "https://data.wprdc.org/dataset/pittsburgh-fish-fry-map"
   ]
  }
 ],
 "metadata": {
  "kernelspec": {
   "display_name": "Python 3",
   "language": "python",
   "name": "python3"
  },
  "language_info": {
   "codemirror_mode": {
    "name": "ipython",
    "version": 3
   },
   "file_extension": ".py",
   "mimetype": "text/x-python",
   "name": "python",
   "nbconvert_exporter": "python",
   "pygments_lexer": "ipython3",
   "version": "3.8.3"
  }
 },
 "nbformat": 4,
 "nbformat_minor": 4
}
